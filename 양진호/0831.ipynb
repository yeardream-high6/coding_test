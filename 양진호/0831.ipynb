{
  "nbformat": 4,
  "nbformat_minor": 0,
  "metadata": {
    "colab": {
      "name": "0831.ipynb",
      "provenance": [],
      "authorship_tag": "ABX9TyNx59Fln/CXiVPntEaY1/9X"
    },
    "kernelspec": {
      "name": "python3",
      "display_name": "Python 3"
    },
    "language_info": {
      "name": "python"
    }
  },
  "cells": [
    {
      "cell_type": "markdown",
      "source": [
        "#<a href=\"https://www.acmicpc.net/status?user_id=jinhoy&problem_id=2012&from_mine=1\">등수 매기기</a>"
      ],
      "metadata": {
        "id": "S9gDqfYc3LqF"
      }
    },
    {
      "cell_type": "code",
      "source": [
        "import sys\n",
        "input = sys.stdin.readline\n",
        "n=int(input())\n",
        "rankings = [int(input()) for _ in range(n)]\n",
        "min_ranking=0\n",
        "\n",
        "rankings.sort()\n",
        "for i in range(n):\n",
        "    min_ranking += abs(rankings[i] - (i+1))\n",
        "print(min_ranking)"
      ],
      "metadata": {
        "colab": {
          "base_uri": "https://localhost:8080/"
        },
        "id": "ohhDbuKkvQuf",
        "outputId": "7cc8f028-3a29-4624-af35-276b7edda4ed"
      },
      "execution_count": 32,
      "outputs": [
        {
          "output_type": "stream",
          "name": "stdout",
          "text": [
            "5\n",
            "1\n",
            "5\n",
            "3\n",
            "1\n",
            "2\n",
            "3\n"
          ]
        }
      ]
    },
    {
      "cell_type": "markdown",
      "source": [
        "#<a href=\"https://www.acmicpc.net/problem/13305\">주유소</a>"
      ],
      "metadata": {
        "id": "zb9E3OIx3x_4"
      }
    },
    {
      "cell_type": "code",
      "source": [
        "n=int(input())\n",
        "x=list(map(int,input().split()))\n",
        "y=list(map(int,input().split()))\n",
        "\n",
        "result=x[0]*y[0]\n",
        "com = y[0]\n",
        "\n",
        "for i in range(1,n-1):\n",
        "    if com > y[i]:\n",
        "        com = y[i]\n",
        "    result+=com*x[i]\n",
        "print(result)\n"
      ],
      "metadata": {
        "colab": {
          "base_uri": "https://localhost:8080/"
        },
        "id": "svsnw_PqvRWv",
        "outputId": "9af03be3-cac5-4a46-d667-1269b840e597"
      },
      "execution_count": 33,
      "outputs": [
        {
          "output_type": "stream",
          "name": "stdout",
          "text": [
            "18\n"
          ]
        }
      ]
    },
    {
      "cell_type": "markdown",
      "source": [
        "#<a href=\"https://www.acmicpc.net/problem/2747\">피보나치 수</a>"
      ],
      "metadata": {
        "id": "nskh6KoS9MxR"
      }
    },
    {
      "cell_type": "code",
      "source": [
        "n=int(input())\n",
        "x=0\n",
        "y=1\n",
        "z=x+y\n",
        "for _ in range(n-2):\n",
        "    x,y=y,z\n",
        "    z=x+y\n",
        "print(z)"
      ],
      "metadata": {
        "colab": {
          "base_uri": "https://localhost:8080/"
        },
        "id": "8ieAZFOIxyP8",
        "outputId": "e04f2dbe-d9cf-4a14-f113-e331d4af8144"
      },
      "execution_count": 57,
      "outputs": [
        {
          "output_type": "stream",
          "name": "stdout",
          "text": [
            "5\n",
            "5\n"
          ]
        }
      ]
    },
    {
      "cell_type": "markdown",
      "source": [
        "#<a href=\"https://www.acmicpc.net/problem/11726\">2xn 타일링</a>"
      ],
      "metadata": {
        "id": "7m_O84qD-lDY"
      }
    },
    {
      "cell_type": "code",
      "source": [
        "# import sys\n",
        "# input = sys.stdin.readline\n",
        "df=[0]*1001\n",
        "df[1]=1\n",
        "df[2]=2\n",
        "for i in range(3,1001):\n",
        "    df[i]=df[i-1]+df[i-2]\n",
        "x=int(input())\n",
        "print(df[x]%10007)"
      ],
      "metadata": {
        "colab": {
          "base_uri": "https://localhost:8080/"
        },
        "id": "m3K4WTSy-N2d",
        "outputId": "ff73844b-c475-4a91-c498-01ea976a179d"
      },
      "execution_count": 1,
      "outputs": [
        {
          "output_type": "stream",
          "name": "stdout",
          "text": [
            "4\n",
            "5\n"
          ]
        }
      ]
    },
    {
      "cell_type": "markdown",
      "source": [
        "#<a href=\"https://www.acmicpc.net/problem/1904\">01타일</a>"
      ],
      "metadata": {
        "id": "0COpoUgHGVzU"
      }
    },
    {
      "cell_type": "code",
      "source": [
        "# import sys\n",
        "# input = sys.stdin.readline\n",
        "df=[0]*1000001\n",
        "df[1]=1\n",
        "df[2]=2\n",
        "df[3]=3\n",
        "x=int(input())\n",
        "for i in range(4,x+1):\n",
        "    df[i]=(df[i-1]+df[i-2])%15746\n",
        "print(df[x])"
      ],
      "metadata": {
        "colab": {
          "base_uri": "https://localhost:8080/"
        },
        "id": "zvSmkMmi_UbY",
        "outputId": "db88e3e8-8f7a-4df6-f4ce-d40818a7e8e1"
      },
      "execution_count": 1,
      "outputs": [
        {
          "output_type": "stream",
          "name": "stdout",
          "text": [
            "4\n",
            "5\n"
          ]
        }
      ]
    },
    {
      "cell_type": "markdown",
      "source": [
        "#<a href=\"https://www.acmicpc.net/problem/1912\">연속합</a>"
      ],
      "metadata": {
        "id": "qN5Fta9UJZxU"
      }
    },
    {
      "cell_type": "code",
      "source": [
        "n=int(input())\n",
        "num=list(map(int,input().split()))\n",
        "result=[num[0]]\n",
        "for i in range(1,n):\n",
        "    result.append(max(num[i],result[i-1]+num[i]))\n",
        "print(max(result))"
      ],
      "metadata": {
        "colab": {
          "base_uri": "https://localhost:8080/"
        },
        "id": "0D8yet9pUzcy",
        "outputId": "c6359d80-f88c-49a8-ba16-fa17f613d34f"
      },
      "execution_count": 77,
      "outputs": [
        {
          "output_type": "stream",
          "name": "stdout",
          "text": [
            "5\n",
            "-1 -2 -3 -4 -5\n",
            "[-1, -2, -3, -4, -5]\n"
          ]
        }
      ]
    },
    {
      "cell_type": "markdown",
      "source": [
        "#<a href=\"https://www.acmicpc.net/problem/14501\">퇴사</a>"
      ],
      "metadata": {
        "id": "BcT70MmhV-oK"
      }
    },
    {
      "cell_type": "code",
      "source": [
        "하아..퇴사 하고싶네..."
      ],
      "metadata": {
        "id": "TiPk8PJyapPX"
      },
      "execution_count": null,
      "outputs": []
    },
    {
      "cell_type": "markdown",
      "source": [
        "#<a href=\"https://www.acmicpc.net/problem/1543\">문서검색</a>"
      ],
      "metadata": {
        "id": "uWloYZhjwoKq"
      }
    },
    {
      "cell_type": "code",
      "source": [
        "word=input()\n",
        "find_word=input()\n",
        "count=0\n",
        "while True:\n",
        "    if find_word in word:\n",
        "        count+=1\n",
        "        word = word.replace(find_word,\" \",1)\n",
        "    else:\n",
        "        break\n",
        "print(count)"
      ],
      "metadata": {
        "colab": {
          "base_uri": "https://localhost:8080/"
        },
        "id": "Y9xdPWFzwucU",
        "outputId": "049749b9-7951-48c7-f77e-9e0450367822"
      },
      "execution_count": 208,
      "outputs": [
        {
          "output_type": "stream",
          "name": "stdout",
          "text": [
            "aababa\n",
            "aba\n",
            "1\n"
          ]
        }
      ]
    },
    {
      "cell_type": "markdown",
      "source": [
        "#<a href=\"https://www.acmicpc.net/problem/1920\">수 찾기</a>"
      ],
      "metadata": {
        "id": "dMbGyBRm1y-a"
      }
    },
    {
      "cell_type": "code",
      "source": [
        "n=int(input())\n",
        "n_list=list(map(int,input().split()))\n",
        "m=int(input())\n",
        "m_list=list(map(int,input().split()))"
      ],
      "metadata": {
        "colab": {
          "base_uri": "https://localhost:8080/"
        },
        "id": "EvYQGdPI3jWU",
        "outputId": "135578ec-23a6-4913-fe7a-55be44e74aa4"
      },
      "execution_count": 242,
      "outputs": [
        {
          "name": "stdout",
          "output_type": "stream",
          "text": [
            "5\n",
            "4 1 5 2 3\n",
            "5\n",
            "1 3 7 9 5\n"
          ]
        }
      ]
    }
  ]
}