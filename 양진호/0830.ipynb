{
  "nbformat": 4,
  "nbformat_minor": 0,
  "metadata": {
    "colab": {
      "name": "0830.ipynb",
      "provenance": [],
      "authorship_tag": "ABX9TyN4BquXa/tvDnj7ZNpdEqoF"
    },
    "kernelspec": {
      "name": "python3",
      "display_name": "Python 3"
    },
    "language_info": {
      "name": "python"
    }
  },
  "cells": [
    {
      "cell_type": "markdown",
      "source": [
        "#<a href=\"https://www.acmicpc.net/problem/2355\">시그마</a>"
      ],
      "metadata": {
        "id": "i_HjviGgiLCs"
      }
    },
    {
      "cell_type": "code",
      "execution_count": null,
      "metadata": {
        "colab": {
          "base_uri": "https://localhost:8080/"
        },
        "id": "1ALnIY4Ia3W8",
        "outputId": "7399617a-a5f1-44fd-ef93-ba8aec372969"
      },
      "outputs": [
        {
          "name": "stdout",
          "output_type": "stream",
          "text": [
            "5 10\n"
          ]
        },
        {
          "output_type": "execute_result",
          "data": {
            "text/plain": [
              "-40"
            ]
          },
          "metadata": {},
          "execution_count": 18
        }
      ],
      "source": [
        "a,b=map(int,input().split())\n",
        "x=max(a,b)\n",
        "y=min(a,b)\n",
        "\n",
        "sum=(a+b)*(x-y+1)/2\n",
        "print(int(sum))\n"
      ]
    },
    {
      "cell_type": "markdown",
      "source": [
        "#<a href=\"https://www.acmicpc.net/problem/16916\">부분 문자열</a>"
      ],
      "metadata": {
        "id": "5HS56Tq2iygi"
      }
    },
    {
      "cell_type": "code",
      "source": [
        "s=input()\n",
        "p=input()\n",
        "if p in s:\n",
        "    print(1)\n",
        "else:\n",
        "    print(0)"
      ],
      "metadata": {
        "colab": {
          "base_uri": "https://localhost:8080/"
        },
        "id": "PjuImAtpiRmj",
        "outputId": "256fb2e0-8da7-42f0-d8b1-e180f9126d09"
      },
      "execution_count": null,
      "outputs": [
        {
          "output_type": "stream",
          "name": "stdout",
          "text": [
            "baekjoon\n",
            "bak\n",
            "0\n"
          ]
        }
      ]
    },
    {
      "cell_type": "markdown",
      "source": [
        "#<a href=\"https://www.acmicpc.net/problem/15969\">행복</a>"
      ],
      "metadata": {
        "id": "AEq1aRoxj488"
      }
    },
    {
      "cell_type": "code",
      "source": [
        "n=int(input())\n",
        "score=list(map(int,input().split()))\n",
        "print(max(score)-min(score))\n"
      ],
      "metadata": {
        "colab": {
          "base_uri": "https://localhost:8080/"
        },
        "id": "iECBmZ7kibEE",
        "outputId": "13586c68-1513-4f35-c92b-5acfbbe82e6f"
      },
      "execution_count": null,
      "outputs": [
        {
          "output_type": "stream",
          "name": "stdout",
          "text": [
            "5\n",
            "27 35 92 75 42\n",
            "65\n"
          ]
        }
      ]
    },
    {
      "cell_type": "markdown",
      "source": [
        "#<a href=\"https://www.acmicpc.net/problem/10539\">수빈이와 수열</a>"
      ],
      "metadata": {
        "id": "2U2ISv4xsr-4"
      }
    },
    {
      "cell_type": "code",
      "source": [
        "n=int(input())\n",
        "num=list(map(int,input().split()))\n",
        "result=[]\n",
        "for i in range(n):\n",
        "    result.append((num[i]*(i+1))-sum(result))\n",
        "print(*result)\n",
        "    "
      ],
      "metadata": {
        "colab": {
          "base_uri": "https://localhost:8080/"
        },
        "id": "2n9Bw78djz3E",
        "outputId": "a606d61f-dfa9-4f15-a05b-f760673d717f"
      },
      "execution_count": null,
      "outputs": [
        {
          "output_type": "stream",
          "name": "stdout",
          "text": [
            "4\n",
            "3 2 3 5\n",
            "3 1 5 11\n"
          ]
        }
      ]
    },
    {
      "cell_type": "markdown",
      "source": [
        "#<a href=\"https://www.acmicpc.net/problem/20053\">최소,최대2</a>"
      ],
      "metadata": {
        "id": "2Uyf4e4uxExz"
      }
    },
    {
      "cell_type": "code",
      "source": [
        "n=int(input())\n",
        "for i in range(n):\n",
        "    num=[]\n",
        "    t,num=int(input()),list(map(int,input().split()))\n",
        "    print(min(num),max(num))"
      ],
      "metadata": {
        "colab": {
          "base_uri": "https://localhost:8080/"
        },
        "id": "aT_qm-E0k7UW",
        "outputId": "462bcb9f-be4a-41f9-db4a-cc3d9439c21f"
      },
      "execution_count": null,
      "outputs": [
        {
          "output_type": "stream",
          "name": "stdout",
          "text": [
            "3\n",
            "5\n",
            "20 28 22 25 21\n",
            "20 28\n",
            "5\n",
            "30 21 17 25 29\n",
            "17 30\n",
            "5\n",
            "20 10 35 30 7\n",
            "7 35\n"
          ]
        }
      ]
    },
    {
      "cell_type": "markdown",
      "source": [
        "#<a href=\"https://www.acmicpc.net/problem/11047\">동전 0</a>"
      ],
      "metadata": {
        "id": "gbuOPm173N60"
      }
    },
    {
      "cell_type": "code",
      "source": [
        "n,x=map(int,input().split())\n",
        "a=[]\n",
        "count=0\n",
        "\n",
        "for i in range(n):\n",
        "    a.append(int(input()))\n",
        "a.sort(reverse=True)\n",
        "\n",
        "\n",
        "for i in range(len(a)):\n",
        "    if x//a[i] > 0:\n",
        "        count+=x//a[i]\n",
        "        x = x%a[i]\n",
        "print(count)\n",
        "\n"
      ],
      "metadata": {
        "colab": {
          "base_uri": "https://localhost:8080/"
        },
        "id": "0HnMlnplmv5J",
        "outputId": "d9f657fe-a057-4923-933b-dc807e5e0b8b"
      },
      "execution_count": null,
      "outputs": [
        {
          "output_type": "stream",
          "name": "stdout",
          "text": [
            "10 4790\n",
            "1\n",
            "5\n",
            "10\n",
            "50\n",
            "100\n",
            "500\n",
            "1000\n",
            "5000\n",
            "10000\n",
            "50000\n",
            "12\n"
          ]
        }
      ]
    },
    {
      "cell_type": "markdown",
      "source": [
        "#<a href=\"https://www.acmicpc.net/problem/11399\">ATM</a>"
      ],
      "metadata": {
        "id": "pJw8Tbbh8Bqt"
      }
    },
    {
      "cell_type": "code",
      "source": [
        "n=int(input())\n",
        "num=list(map(int,input().split()))\n",
        "num.sort()\n",
        "result=0\n",
        "for i in range(n):    \n",
        "    for j in range(i+1):\n",
        "        result+=num[j]\n",
        "print(result)"
      ],
      "metadata": {
        "colab": {
          "base_uri": "https://localhost:8080/"
        },
        "id": "cxFgWfgJ4veQ",
        "outputId": "4864adc2-1af6-45cb-f906-f87b2b2b91ab"
      },
      "execution_count": null,
      "outputs": [
        {
          "output_type": "stream",
          "name": "stdout",
          "text": [
            "5\n",
            "3 1 4 3 2\n",
            "32\n"
          ]
        }
      ]
    },
    {
      "cell_type": "code",
      "source": [],
      "metadata": {
        "id": "qN376hE76BLH"
      },
      "execution_count": null,
      "outputs": []
    },
    {
      "cell_type": "code",
      "source": [],
      "metadata": {
        "id": "oyg4qQC-9ZKc"
      },
      "execution_count": null,
      "outputs": []
    }
  ]
}